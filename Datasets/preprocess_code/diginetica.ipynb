{
 "cells": [
  {
   "cell_type": "code",
   "execution_count": 1,
   "metadata": {},
   "outputs": [],
   "source": [
    "import argparse\n",
    "import os\n",
    "import operator\n",
    "import pickle\n",
    "import time\n",
    "\n",
    "import csv\n",
    "import datetime\n",
    "import numpy as np\n",
    "from collections import Counter"
   ]
  },
  {
   "cell_type": "code",
   "execution_count": 2,
   "metadata": {},
   "outputs": [
    {
     "name": "stdout",
     "output_type": "stream",
     "text": [
      "Namespace(save_dir='diginetica_temp')\n"
     ]
    }
   ],
   "source": [
    "parser = argparse.ArgumentParser()\n",
    "parser.add_argument('--save-dir', default='diginetica_temp', help='save directory name')\n",
    "opt = parser.parse_args([])\n",
    "print(opt)"
   ]
  },
  {
   "cell_type": "code",
   "execution_count": 3,
   "metadata": {},
   "outputs": [],
   "source": [
    "if not os.path.exists(f'../{opt.save_dir}'):\n",
    "    os.makedirs(f'../{opt.save_dir}')\n"
   ]
  },
  {
   "cell_type": "code",
   "execution_count": 4,
   "metadata": {},
   "outputs": [
    {
     "name": "stdout",
     "output_type": "stream",
     "text": [
      "-- Starting @ 2022-10-10 16:23:51.769560s\n",
      "-- Reading data @ 2022-10-10 16:24:12.111694s\n"
     ]
    }
   ],
   "source": [
    "print(\"-- Starting @ %ss\" % datetime.datetime.now())\n",
    "\n",
    "with open('../raw/train-item-views.csv', \"r\") as f:\n",
    "    reader = csv.DictReader(f, delimiter=';')\n",
    "    sess_clicks = {}\n",
    "    sess_date = {}\n",
    "    ctr = 0\n",
    "    curid = -1\n",
    "    curdate = None\n",
    "    for data in reader:\n",
    "        sessid = data['sessionId']\n",
    "        if curdate and curid != sessid:\n",
    "            # date = curdate\n",
    "            date = ''\n",
    "            date = time.mktime(time.strptime(curdate, '%Y-%m-%d')) #timestamp\n",
    "            sess_date[curid] = date\n",
    "        curid = sessid\n",
    "        # item = data['itemId']\n",
    "        item = data['itemId'], int(data['timeframe'])\n",
    "        curdate = ''\n",
    "        curdate = data['eventdate']\n",
    "\n",
    "        if sessid in sess_clicks:\n",
    "            sess_clicks[sessid] += [item]\n",
    "        else:\n",
    "            sess_clicks[sessid] = [item]\n",
    "        ctr += 1\n",
    "    date = time.mktime(time.strptime(curdate, '%Y-%m-%d'))\n",
    "    # add\n",
    "    for i in list(sess_clicks):\n",
    "        sorted_clicks = sorted(sess_clicks[i], key=operator.itemgetter(1))\n",
    "        sess_clicks[i] = [c[0] for c in sorted_clicks]\n",
    "    sess_date[curid] = date\n",
    "print(\"-- Reading data @ %ss\" % datetime.datetime.now())"
   ]
  },
  {
   "cell_type": "code",
   "execution_count": 5,
   "metadata": {},
   "outputs": [
    {
     "name": "stdout",
     "output_type": "stream",
     "text": [
      "Splitting date 1464102000.0\n"
     ]
    }
   ],
   "source": [
    "# Filter out length shorter than 2\n",
    "for s in list(sess_clicks):\n",
    "    if len(sess_clicks[s]) < 2 :\n",
    "        del sess_clicks[s]\n",
    "        del sess_date[s]\n",
    "\n",
    "# Counter number of times each appears\n",
    "iid_counts = {}\n",
    "for s in sess_clicks:\n",
    "    seq = sess_clicks[s]\n",
    "    for iid in seq:\n",
    "        if iid in iid_counts:\n",
    "            iid_counts[iid] += 1\n",
    "        else:\n",
    "            iid_counts[iid] = 1\n",
    "\n",
    "sorted_counts = sorted(iid_counts.items(), key=operator.itemgetter(1))\n",
    "\n",
    "length = len(sess_clicks)\n",
    "for s in list(sess_clicks):\n",
    "    curseq = sess_clicks[s]\n",
    "    filseq = list(filter(lambda i: iid_counts[i] >= 5, curseq))\n",
    "\n",
    "    if len(filseq) < 2 :\n",
    "        del sess_clicks[s]\n",
    "        del sess_date[s]\n",
    "    else:\n",
    "        sess_clicks[s] = filseq\n",
    "\n",
    "dates = list(sess_date.items())\n",
    "maxdate = dates[0][1]\n",
    "\n",
    "for _, date in dates:\n",
    "    if maxdate < date:\n",
    "        maxdate = date\n",
    "\n",
    "# 7 days for test\n",
    "splitdate = 0\n",
    "splitdate = maxdate - 86400 * 7\n",
    "\n",
    "print('Splitting date', splitdate)      # Yoochoose: ('Split date', 1411930799.0)\n",
    "tra_sess = filter(lambda x: x[1] < splitdate, dates)\n",
    "tes_sess = filter(lambda x: x[1] > splitdate, dates)"
   ]
  },
  {
   "cell_type": "code",
   "execution_count": 7,
   "metadata": {},
   "outputs": [],
   "source": [
    "item_dict, item_cnt = {}, {}\n",
    "\n",
    "# train\n",
    "train_ids, train_seqs, train_dates = [], [], []\n",
    "item_ctr = 1\n",
    "\n",
    "for s, date in tra_sess:\n",
    "    seq = sess_clicks[s]\n",
    "    outseq = []\n",
    "    for i in seq:\n",
    "        if i in item_dict:\n",
    "            outseq += [item_dict[i]]\n",
    "            item_cnt[item_dict[i]] += 1\n",
    "        else:\n",
    "            outseq += [item_ctr]\n",
    "            item_dict[i] = item_ctr\n",
    "            item_cnt[item_dict[i]] = 1\n",
    "            item_ctr += 1\n",
    "    if len(outseq) < 2: \n",
    "        continue\n",
    "    train_ids += [s]\n",
    "    train_dates += [date]\n",
    "    train_seqs += [outseq]\n",
    "\n",
    "# test\n",
    "test_ids = []\n",
    "test_seqs = []\n",
    "test_dates = []\n",
    "for s, date in tes_sess:\n",
    "    seq = sess_clicks[s]\n",
    "    outseq = []\n",
    "    for i in seq:\n",
    "        if i in item_dict:\n",
    "            outseq += [item_dict[i]]\n",
    "    if len(outseq) < 2:\n",
    "        continue\n",
    "    test_ids += [s]\n",
    "    test_dates += [date]\n",
    "    test_seqs += [outseq]"
   ]
  },
  {
   "cell_type": "code",
   "execution_count": 8,
   "metadata": {},
   "outputs": [
    {
     "name": "stdout",
     "output_type": "stream",
     "text": [
      "1 43097\n"
     ]
    }
   ],
   "source": [
    "print(min(item_dict.values()), max(item_dict.values()))"
   ]
  },
  {
   "cell_type": "code",
   "execution_count": 9,
   "metadata": {},
   "outputs": [],
   "source": [
    "def process_seqs(iseqs, idates, train=True):\n",
    "    out_seqs, labs = [], []\n",
    "    \n",
    "    if train:\n",
    "        out_dates, ids = [], []\n",
    "\n",
    "        for id, seq, date in zip(range(len(iseqs)), iseqs, idates):\n",
    "            for i in range(1, len(seq)):\n",
    "                tar = seq[-i]\n",
    "                labs += [tar]\n",
    "                out_seqs += [seq[:-i]]\n",
    "                out_dates += [date]\n",
    "                ids += [id]\n",
    "        return out_seqs, out_dates, labs, ids\n",
    "    else:\n",
    "        for seq in iseqs:\n",
    "            labs += [seq[-1]]\n",
    "            out_seqs += [seq[:-1]]\n",
    "        return out_seqs, labs"
   ]
  },
  {
   "cell_type": "code",
   "execution_count": 10,
   "metadata": {},
   "outputs": [],
   "source": [
    "tra_seqs, tra_dates, tra_labs, tra_ids = process_seqs(train_seqs, train_dates)\n",
    "tes_seqs, tes_labs = process_seqs(test_seqs, None, False)"
   ]
  },
  {
   "cell_type": "code",
   "execution_count": 11,
   "metadata": {},
   "outputs": [
    {
     "name": "stdout",
     "output_type": "stream",
     "text": [
      "[43090, 43090, 43090, 43090] 43095 [43095, 7101, 723, 111, 12548, 2881, 2881] 43095\n"
     ]
    }
   ],
   "source": [
    "print(max(tes_seqs), max(tes_labs), max(tra_seqs), max(tes_labs))"
   ]
  },
  {
   "cell_type": "code",
   "execution_count": 12,
   "metadata": {},
   "outputs": [
    {
     "name": "stdout",
     "output_type": "stream",
     "text": [
      "1 43097\n"
     ]
    }
   ],
   "source": [
    "print(min(item_cnt.keys()), max(item_cnt.keys()))"
   ]
  },
  {
   "cell_type": "code",
   "execution_count": 13,
   "metadata": {},
   "outputs": [
    {
     "name": "stdout",
     "output_type": "stream",
     "text": [
      "# train sessions 719462, ex. ([[1, 2, 3, 4, 5, 6, 4, 2, 7], [1, 2, 3, 4, 5, 6, 4, 2], [1, 2, 3, 4, 5, 6, 4]], [8, 7, 2])\n",
      "# test sessions 15963, ex. ([[21152, 10178, 14344, 40488, 34042], [12258], [9626, 390]], [40488, 12674, 9626])\n",
      "# train clicks 906131\n",
      "# items 43097\n",
      "avg. length : 4.132764482349311\n"
     ]
    }
   ],
   "source": [
    "print(f\"# train sessions {len(tra_seqs)}, ex. {tra_seqs[:3], tra_labs[:3]}\")\n",
    "print(f\"# test sessions {len(tes_seqs)}, ex. {tes_seqs[:3], tes_labs[:3]}\")\n",
    "print(f\"# train clicks {sum(item_cnt.values())}\")\n",
    "print(f\"# items {len(item_cnt.keys())}\")\n",
    "print(f\"avg. length : {sum(map(len, tra_seqs)) / len(tra_seqs)}\")"
   ]
  },
  {
   "cell_type": "code",
   "execution_count": 14,
   "metadata": {},
   "outputs": [],
   "source": [
    "tra = (tra_seqs, tra_labs)\n",
    "tes = (tes_seqs, tes_labs)"
   ]
  },
  {
   "cell_type": "code",
   "execution_count": 15,
   "metadata": {},
   "outputs": [],
   "source": [
    "pickle.dump(tra, open(f'../{opt.save_dir}/train.txt', 'wb'))\n",
    "pickle.dump(tes, open(f'../{opt.save_dir}/test.txt', 'wb'))\n",
    "pickle.dump(len(item_cnt.keys()) + 1, open(f'../{opt.save_dir}/n_node.txt', 'wb'))"
   ]
  },
  {
   "cell_type": "code",
   "execution_count": 16,
   "metadata": {},
   "outputs": [],
   "source": [
    "# Popularity dict\n",
    "total_ctr = sum(item_cnt.values())\n",
    "pop_dict = {key : (value / total_ctr) for key, value in item_cnt.items()}\n",
    "\n",
    "pickle.dump(pop_dict, open(f\"../{opt.save_dir}/pop_dict.pickle\", \"wb\"))"
   ]
  },
  {
   "cell_type": "code",
   "execution_count": 21,
   "metadata": {},
   "outputs": [
    {
     "data": {
      "text/plain": [
       "0.1005373395237554"
      ]
     },
     "execution_count": 21,
     "metadata": {},
     "output_type": "execute_result"
    }
   ],
   "source": [
    "max(pop_dict.values()) * 100"
   ]
  },
  {
   "cell_type": "code",
   "execution_count": 20,
   "metadata": {},
   "outputs": [
    {
     "name": "stdout",
     "output_type": "stream",
     "text": [
      "# head items : 8678, # tail items : 34419\n"
     ]
    }
   ],
   "source": [
    "# head tail dict \n",
    "sorted_item_cnt = sorted(item_cnt.items(), reverse=True, key=lambda item: item[1])\n",
    "sorted_keys = np.array(sorted_item_cnt)[:, 0].astype(int)\n",
    "sorted_values = np.array(sorted_item_cnt)[:, 1]\n",
    "\n",
    "split_point = int(len(sorted_keys) * 0.2)\n",
    "point_cnt_value = sorted_values[split_point]\n",
    "split_idx = [i for i, cnt in enumerate(sorted_values) if cnt == (point_cnt_value-1)][0]\n",
    "\n",
    "ht_dict = dict()\n",
    "ht_dict['head'] = sorted_keys[:split_idx]\n",
    "ht_dict['tail'] = sorted_keys[split_idx:]\n",
    "\n",
    "print(f'# head items : {len(ht_dict[\"head\"])}, # tail items : {len(ht_dict[\"tail\"])}')\n",
    "pickle.dump(ht_dict, open(f'../{opt.save_dir}/ht_dict.pickle', 'wb'))"
   ]
  },
  {
   "cell_type": "code",
   "execution_count": 24,
   "metadata": {},
   "outputs": [
    {
     "data": {
      "text/plain": [
       "array([911, 880, 806, ...,   1,   1,   1])"
      ]
     },
     "execution_count": 24,
     "metadata": {},
     "output_type": "execute_result"
    }
   ],
   "source": [
    "sorted_values"
   ]
  },
  {
   "cell_type": "code",
   "execution_count": 25,
   "metadata": {},
   "outputs": [],
   "source": [
    "sum_sorted_values = sum(sorted_values)"
   ]
  },
  {
   "cell_type": "code",
   "execution_count": 26,
   "metadata": {},
   "outputs": [
    {
     "name": "stdout",
     "output_type": "stream",
     "text": [
      "906131 724904.8\n"
     ]
    }
   ],
   "source": [
    "print(sum_sorted_values, sum_sorted_values*0.8)"
   ]
  },
  {
   "cell_type": "code",
   "execution_count": 37,
   "metadata": {},
   "outputs": [
    {
     "name": "stdout",
     "output_type": "stream",
     "text": [
      "16913 13\n"
     ]
    }
   ],
   "source": [
    "summ = 0\n",
    "for i, value, in enumerate(sorted_values):\n",
    "    summ += value\n",
    "    if value < 14:\n",
    "        print(i, value)\n",
    "        break"
   ]
  },
  {
   "cell_type": "code",
   "execution_count": 38,
   "metadata": {},
   "outputs": [
    {
     "data": {
      "text/plain": [
       "715118"
      ]
     },
     "execution_count": 38,
     "metadata": {},
     "output_type": "execute_result"
    }
   ],
   "source": [
    "sum(sorted_values[:16913])"
   ]
  },
  {
   "cell_type": "code",
   "execution_count": 40,
   "metadata": {},
   "outputs": [
    {
     "data": {
      "text/plain": [
       "<BarContainer object of 26184 artists>"
      ]
     },
     "execution_count": 40,
     "metadata": {},
     "output_type": "execute_result"
    },
    {
     "data": {
      "image/png": "[encoded data removed]",
      "text/plain": [
       "<Figure size 640x480 with 1 Axes>"
      ]
     },
     "metadata": {},
     "output_type": "display_data"
    }
   ],
   "source": [
    "import matplotlib.pyplot as plt\n",
    "plt.bar(np.arange(16913), sorted_values[:16913], color='blue')\n",
    "plt.bar(np.arange(16913, len(sorted_values)), sorted_values[16913:], color='red')"
   ]
  },
  {
   "cell_type": "code",
   "execution_count": 41,
   "metadata": {},
   "outputs": [
    {
     "data": {
      "text/plain": [
       "<BarContainer object of 34419 artists>"
      ]
     },
     "execution_count": 41,
     "metadata": {},
     "output_type": "execute_result"
    },
    {
     "data": {
      "image/png": "[encoded data removed]",
      "text/plain": [
       "<Figure size 640x480 with 1 Axes>"
      ]
     },
     "metadata": {},
     "output_type": "display_data"
    }
   ],
   "source": [
    "import matplotlib.pyplot as plt\n",
    "plt.bar(np.arange(8678), sorted_values[:8678], color='blue')\n",
    "plt.bar(np.arange(8678, len(sorted_values)), sorted_values[8678:], color='red')"
   ]
  },
  {
   "cell_type": "code",
   "execution_count": null,
   "metadata": {},
   "outputs": [],
   "source": []
  }
 ],
 "metadata": {
  "kernelspec": {
   "display_name": "py39",
   "language": "python",
   "name": "py39"
  },
  "language_info": {
   "codemirror_mode": {
    "name": "ipython",
    "version": 3
   },
   "file_extension": ".py",
   "mimetype": "text/x-python",
   "name": "python",
   "nbconvert_exporter": "python",
   "pygments_lexer": "ipython3",
   "version": "3.9.7"
  }
 },
 "nbformat": 4,
 "nbformat_minor": 4
}
