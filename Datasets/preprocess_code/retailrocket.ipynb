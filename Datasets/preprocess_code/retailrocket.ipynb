{
 "cells": [
  {
   "cell_type": "code",
   "execution_count": 25,
   "metadata": {},
   "outputs": [],
   "source": [
    "import argparse\n",
    "import os\n",
    "import operator\n",
    "import pickle\n",
    "\n",
    "import csv\n",
    "import datetime\n",
    "from collections import Counter\n",
    "import numpy as np\n",
    "import time"
   ]
  },
  {
   "cell_type": "code",
   "execution_count": 26,
   "metadata": {},
   "outputs": [
    {
     "name": "stdout",
     "output_type": "stream",
     "text": [
      "Namespace(save_dir='retailrocket_temp')\n"
     ]
    }
   ],
   "source": [
    "parser = argparse.ArgumentParser()\n",
    "parser.add_argument('--save-dir', default='retailrocket_temp', help='save directory name')\n",
    "opt = parser.parse_args([])\n",
    "print(opt)"
   ]
  },
  {
   "cell_type": "code",
   "execution_count": 27,
   "metadata": {},
   "outputs": [
    {
     "name": "stdout",
     "output_type": "stream",
     "text": [
      "-- Starting @ 2022-10-10 16:58:34.314445s\n"
     ]
    },
    {
     "ename": "KeyboardInterrupt",
     "evalue": "",
     "output_type": "error",
     "traceback": [
      "\u001b[0;31m---------------------------------------------------------------------------\u001b[0m",
      "\u001b[0;31mKeyboardInterrupt\u001b[0m                         Traceback (most recent call last)",
      "Input \u001b[0;32mIn [27]\u001b[0m, in \u001b[0;36m<cell line: 6>\u001b[0;34m()\u001b[0m\n\u001b[1;32m     16\u001b[0m new_line \u001b[38;5;241m=\u001b[39m [timestamp, user, item]\n\u001b[1;32m     18\u001b[0m \u001b[38;5;28;01mif\u001b[39;00m user \u001b[38;5;129;01min\u001b[39;00m user_dict\u001b[38;5;241m.\u001b[39mkeys():\n\u001b[0;32m---> 19\u001b[0m     \u001b[43muser_dict\u001b[49m[user] \u001b[38;5;241m+\u001b[39m\u001b[38;5;241m=\u001b[39m [new_line]\n\u001b[1;32m     20\u001b[0m \u001b[38;5;28;01melse\u001b[39;00m:\n\u001b[1;32m     21\u001b[0m     user_dict[user] \u001b[38;5;241m=\u001b[39m [new_line]\n",
      "\u001b[0;31mKeyboardInterrupt\u001b[0m: "
     ]
    }
   ],
   "source": [
    "print(\"-- Starting @ %ss\" % datetime.datetime.now())\n",
    "\n",
    "if not os.path.exists(f'../{opt.save_dir}'):\n",
    "    os.makedirs(f'../{opt.save_dir}')\n",
    "\n",
    "with open(\"../raw/events.csv\", \"r\") as f:\n",
    "    lines = f.readlines()\n",
    "    user_dict = {}\n",
    "    items_freq = {}\n",
    "\n",
    "    for line in lines[1:]:\n",
    "        data = line.strip('\\n').split(',')\n",
    "        timestamp = int(int(data[0]) / 1000)\n",
    "        user = data[1]\n",
    "        item = data[3]\n",
    "        new_line = [timestamp, user, item]\n",
    "\n",
    "        if user in user_dict.keys():\n",
    "            user_dict[user] += [new_line]\n",
    "        else:\n",
    "            user_dict[user] = [new_line]\n",
    "        \n",
    "        if item in items_freq:\n",
    "            items_freq[item] += 1\n",
    "        else:\n",
    "            items_freq[item] = 1"
   ]
  },
  {
   "cell_type": "code",
   "execution_count": 4,
   "metadata": {},
   "outputs": [],
   "source": [
    "if len(items_freq) > 40000:\n",
    "    items_freq = dict(sorted(items_freq.items(), key=lambda d: d[1], reverse=True)[:40000])\n",
    "\n",
    "rr_data = open(f\"../{opt.save_dir}/retailrocket_data.csv\", \"w\")\n",
    "writer = csv.writer(rr_data)\n",
    "writer.writerow([\"SessionId\",\"TimeStamp\",\"ItemId\"])\n",
    "sessid = 0\n",
    "for user in user_dict.keys():\n",
    "    user_dict[user] = sorted(user_dict[user], key=lambda x: x[1])\n",
    "    curdate = None\n",
    "    \n",
    "    for record in user_dict[user]:\n",
    "        item_id = record[2]\n",
    "        # if len(item_id) >= 2:\n",
    "        if len(item_id) >= 2 and item_id in items_freq:\n",
    "            sess_date = record[0]\n",
    "            if curdate and sess_date-curdate > 28800:\n",
    "                sessid += 1\n",
    "            curdate = sess_date\n",
    "            new_record = [str(sessid), str(record[0]), record[2]]\n",
    "            writer.writerow(new_record)  \n",
    "    sessid += 1  "
   ]
  },
  {
   "cell_type": "code",
   "execution_count": 5,
   "metadata": {},
   "outputs": [
    {
     "name": "stdout",
     "output_type": "stream",
     "text": [
      "-- Allocating Session ids @ 2022-10-10 16:48:36.729815s\n",
      "-- Reading data @ 2022-10-10 16:48:55.229551s\n"
     ]
    }
   ],
   "source": [
    "print(\"-- Allocating Session ids @ %ss\" % datetime.datetime.now())\n",
    "\n",
    "with open(f'../{opt.save_dir}/retailrocket_data.csv', \"r\") as f:\n",
    "    reader = csv.DictReader(f, delimiter=',')\n",
    "    sess_clicks = {}\n",
    "    sess_date = {}\n",
    "    ctr = 0\n",
    "    curid = -1\n",
    "    curdate = None\n",
    "    for data in reader:\n",
    "        sessid = int(data['SessionId'])\n",
    "        if curdate and curid != sessid:\n",
    "            date = ''\n",
    "            date = curdate\n",
    "            sess_date[curid] = date\n",
    "        curid = sessid\n",
    "        item = int(data['ItemId']), float(data['TimeStamp'])\n",
    "        curdate = ''\n",
    "        curdate = float(data['TimeStamp'])\n",
    "\n",
    "        if sessid in sess_clicks:\n",
    "            sess_clicks[sessid] += [item]\n",
    "        else:\n",
    "            sess_clicks[sessid] = [item]\n",
    "        ctr += 1\n",
    "    date = curdate\n",
    "\n",
    "    for i in list(sess_clicks):\n",
    "        sorted_clicks = sorted(sess_clicks[i], key=operator.itemgetter(1))\n",
    "        sess_clicks[i] = [c[0] for c in sorted_clicks]\n",
    "    sess_date[curid] = date\n",
    "print(\"-- Reading data @ %ss\" % datetime.datetime.now())"
   ]
  },
  {
   "cell_type": "code",
   "execution_count": 6,
   "metadata": {},
   "outputs": [],
   "source": [
    "# Filter out length 1 sessions\n",
    "for s in list(sess_clicks):\n",
    "    if len(sess_clicks[s]) < 2:\n",
    "        del sess_clicks[s]\n",
    "        del sess_date[s]\n",
    "\n",
    "# Count number of times each item appears\n",
    "iid_counts = {}\n",
    "for s in sess_clicks:\n",
    "    seq = sess_clicks[s]\n",
    "    for iid in seq:\n",
    "        if iid in iid_counts:\n",
    "            iid_counts[iid] += 1\n",
    "        else:\n",
    "            iid_counts[iid] = 1\n",
    "\n",
    "sorted_counts = sorted(iid_counts.items(), key=operator.itemgetter(1))\n",
    "\n",
    "length = len(sess_clicks)\n",
    "for s in list(sess_clicks):\n",
    "    curseq = sess_clicks[s]\n",
    "    filseq = list(filter(lambda i: iid_counts[i] >= 5, curseq))\n",
    "    \n",
    "    if len(filseq) < 2:\n",
    "        del sess_clicks[s]\n",
    "        del sess_date[s]\n",
    "    else:\n",
    "        sess_clicks[s] = filseq"
   ]
  },
  {
   "cell_type": "code",
   "execution_count": 7,
   "metadata": {},
   "outputs": [
    {
     "name": "stdout",
     "output_type": "stream",
     "text": [
      "Splitting date 1441940209.0\n",
      "# train sessions: 308353\n",
      "# test sessions: 12011\n",
      "train sessions example: [(889297, 1430622029.0), (890221, 1430622045.0), (889309, 1430622067.0)]\n",
      "test sessions example: [(819275, 1441940232.0), (819305, 1441940237.0), (816962, 1441940272.0)]\n"
     ]
    }
   ],
   "source": [
    "# Split out test set based on dates\n",
    "dates = list(sess_date.items())\n",
    "maxdate = dates[0][1]\n",
    "\n",
    "for _, date in dates:\n",
    "    if maxdate < date:\n",
    "        maxdate = date\n",
    "\n",
    "# the last of 100 seconds for test\n",
    "splitdate = maxdate - 86400 * 7\n",
    "\n",
    "print('Splitting date', splitdate)      # Yoochoose: ('Split date', 1411930799.0)\n",
    "tra_sess = filter(lambda x: x[1] < splitdate, dates)\n",
    "tes_sess = filter(lambda x: x[1] > splitdate, dates)\n",
    "\n",
    "# Sort sessions by date\n",
    "tra_sess = sorted(tra_sess, key=operator.itemgetter(1))     # [(session_id, timestamp), (), ]\n",
    "tes_sess = sorted(tes_sess, key=operator.itemgetter(1))     # [(session_id, timestamp), (), ]\n",
    "print(f'# train sessions: {len(tra_sess)}')    # 186670    # 7966257\n",
    "print(f'# test sessions: {len(tes_sess)}')    # 15979     # 15324\n",
    "print(f'train sessions example: {tra_sess[:3]}')\n",
    "print(f'test sessions example: {tes_sess[:3]}')"
   ]
  },
  {
   "cell_type": "code",
   "execution_count": 9,
   "metadata": {},
   "outputs": [],
   "source": [
    "item_dict, item_cnt = {}, {}\n",
    "\n",
    "# train\n",
    "train_ids, train_seqs, train_dates = [], [], []\n",
    "item_ctr = 1\n",
    "for s, date in tra_sess:\n",
    "    seq = sess_clicks[s]\n",
    "    outseq = []\n",
    "    for i in seq:\n",
    "        if i in item_dict:\n",
    "            outseq += [item_dict[i]]\n",
    "            item_cnt[item_dict[i]] += 1\n",
    "        else:\n",
    "            outseq += [item_ctr]\n",
    "            item_dict[i] = item_ctr\n",
    "            item_cnt[item_dict[i]] = 1\n",
    "            item_ctr += 1\n",
    "    if len(outseq) < 2:  # Doesn't occur\n",
    "        continue\n",
    "    train_ids += [s]\n",
    "    train_dates += [date]\n",
    "    train_seqs += [outseq]\n",
    "\n",
    "    \n",
    "# test\n",
    "test_ids, test_seqs, test_dates = [], [], []\n",
    "for s, date in tes_sess:\n",
    "    seq = sess_clicks[s]\n",
    "    outseq = []\n",
    "    for i in seq:\n",
    "        if i in item_dict:\n",
    "            outseq += [item_dict[i]]\n",
    "    if len(outseq) < 2:\n",
    "        continue\n",
    "    test_ids += [s]\n",
    "    test_dates += [date]\n",
    "    test_seqs += [outseq]"
   ]
  },
  {
   "cell_type": "code",
   "execution_count": 10,
   "metadata": {},
   "outputs": [],
   "source": [
    "def process_seqs(iseqs, idates, train=True):\n",
    "    out_seqs, labs = [], []\n",
    "    \n",
    "    if train:\n",
    "        out_dates, ids = [], []\n",
    "\n",
    "        for id, seq, date in zip(range(len(iseqs)), iseqs, idates):\n",
    "            for i in range(1, len(seq)):\n",
    "                tar = seq[-i]\n",
    "                labs += [tar]\n",
    "                out_seqs += [seq[:-i]]\n",
    "                out_dates += [date]\n",
    "                ids += [id]\n",
    "        return out_seqs, out_dates, labs, ids\n",
    "    else:\n",
    "        for seq in iseqs:\n",
    "            labs += [seq[-1]]\n",
    "            out_seqs += [seq[:-1]]\n",
    "        return out_seqs, labs"
   ]
  },
  {
   "cell_type": "code",
   "execution_count": 11,
   "metadata": {},
   "outputs": [],
   "source": [
    "tra_seqs, tra_dates, tra_labs, tra_ids = process_seqs(train_seqs, train_dates)\n",
    "tes_seqs, tes_labs = process_seqs(test_seqs, None, False)"
   ]
  },
  {
   "cell_type": "code",
   "execution_count": 12,
   "metadata": {},
   "outputs": [
    {
     "name": "stdout",
     "output_type": "stream",
     "text": [
      "[36266, 36266] 36266 [36266] 36266\n"
     ]
    }
   ],
   "source": [
    "print(max(tes_seqs), max(tes_labs), max(tra_seqs), max(tes_labs))"
   ]
  },
  {
   "cell_type": "code",
   "execution_count": 15,
   "metadata": {},
   "outputs": [
    {
     "name": "stdout",
     "output_type": "stream",
     "text": [
      "1 36266\n"
     ]
    }
   ],
   "source": [
    "print(min(item_dict.values()), max(item_dict.values()))"
   ]
  },
  {
   "cell_type": "code",
   "execution_count": 16,
   "metadata": {},
   "outputs": [
    {
     "name": "stdout",
     "output_type": "stream",
     "text": [
      "# train sessions 851962, ex. ([[1, 1], [1], [2]], [1, 1, 2])\n",
      "# test sessions 11999, ex. ([[1715], [4458], [13126]], [1715, 10098, 13126])\n",
      "# train clicks 1160315\n",
      "# items 36266\n",
      "avg. length : 6.5181181789798135\n"
     ]
    }
   ],
   "source": [
    "print(f\"# train sessions {len(tra_seqs)}, ex. {tra_seqs[:3], tra_labs[:3]}\")\n",
    "print(f\"# test sessions {len(tes_seqs)}, ex. {tes_seqs[:3], tes_labs[:3]}\")\n",
    "print(f\"# train clicks {sum(item_cnt.values())}\")\n",
    "print(f\"# items {len(item_cnt.keys())}\")\n",
    "print(f\"avg. length : {sum(map(len, tra_seqs)) / len(tra_seqs)}\")"
   ]
  },
  {
   "cell_type": "code",
   "execution_count": 17,
   "metadata": {},
   "outputs": [],
   "source": [
    "tra = (tra_seqs, tra_labs)\n",
    "tes = (tes_seqs, tes_labs)"
   ]
  },
  {
   "cell_type": "code",
   "execution_count": 18,
   "metadata": {},
   "outputs": [],
   "source": [
    "pickle.dump(tra, open(f'../{opt.save_dir}/train.txt', 'wb'))\n",
    "pickle.dump(tes, open(f'../{opt.save_dir}/test.txt', 'wb'))\n",
    "pickle.dump(len(item_cnt.keys()) + 1, open(f'../{opt.save_dir}/n_node.txt', 'wb'))"
   ]
  },
  {
   "cell_type": "code",
   "execution_count": 19,
   "metadata": {},
   "outputs": [],
   "source": [
    "# Popularity dict\n",
    "total_ctr = sum(item_cnt.values())\n",
    "pop_dict = {key : (value / total_ctr) for key, value in item_cnt.items()}\n",
    "\n",
    "pickle.dump(pop_dict, open(f\"../{opt.save_dir}/pop_dict.pickle\", \"wb\"))"
   ]
  },
  {
   "cell_type": "code",
   "execution_count": 23,
   "metadata": {},
   "outputs": [
    {
     "name": "stdout",
     "output_type": "stream",
     "text": [
      "8.618349327553294e-07 2.7574036287431753e-05 0.0017676234470811805\n"
     ]
    }
   ],
   "source": [
    "print(min(pop_dict.values()), np.mean(list(pop_dict.values())), max(pop_dict.values()))"
   ]
  },
  {
   "cell_type": "code",
   "execution_count": 24,
   "metadata": {},
   "outputs": [
    {
     "name": "stdout",
     "output_type": "stream",
     "text": [
      "# head items : 7311, # tail items : 28955\n"
     ]
    }
   ],
   "source": [
    "# head tail dict \n",
    "sorted_item_cnt = sorted(item_cnt.items(), reverse=True, key=lambda item: item[1])\n",
    "sorted_keys = np.array(sorted_item_cnt)[:, 0].astype(int)\n",
    "sorted_values = np.array(sorted_item_cnt)[:, 1]\n",
    "\n",
    "split_point = int(len(sorted_keys) * 0.2)\n",
    "point_cnt_value = sorted_values[split_point]\n",
    "split_idx = [i for i, cnt in enumerate(sorted_values) if cnt == (point_cnt_value-1)][0]\n",
    "\n",
    "ht_dict = dict()\n",
    "ht_dict['head'] = sorted_keys[:split_idx]\n",
    "ht_dict['tail'] = sorted_keys[split_idx:]\n",
    "\n",
    "print(f'# head items : {len(ht_dict[\"head\"])}, # tail items : {len(ht_dict[\"tail\"])}')\n",
    "pickle.dump(ht_dict, open(f'../{opt.save_dir}/ht_dict.pickle', 'wb'))"
   ]
  },
  {
   "cell_type": "code",
   "execution_count": 35,
   "metadata": {},
   "outputs": [
    {
     "data": {
      "text/plain": [
       "<BarContainer object of 36266 artists>"
      ]
     },
     "execution_count": 35,
     "metadata": {},
     "output_type": "execute_result"
    },
    {
     "data": {
      "image/png": "[encoded data removed]",
      "text/plain": [
       "<Figure size 640x480 with 1 Axes>"
      ]
     },
     "metadata": {},
     "output_type": "display_data"
    }
   ],
   "source": [
    "import matplotlib.pyplot as plt\n",
    "plt.bar(np.arange(len(sorted_keys)), sorted_values)"
   ]
  },
  {
   "cell_type": "code",
   "execution_count": 36,
   "metadata": {},
   "outputs": [
    {
     "name": "stdout",
     "output_type": "stream",
     "text": [
      "1160315 928252.0\n"
     ]
    }
   ],
   "source": [
    "sum_sorted_values = sum(sorted_values)\n",
    "print(sum_sorted_values, sum_sorted_values*0.8)"
   ]
  },
  {
   "cell_type": "code",
   "execution_count": 38,
   "metadata": {},
   "outputs": [
    {
     "name": "stdout",
     "output_type": "stream",
     "text": [
      "16125 20\n"
     ]
    }
   ],
   "source": [
    "summ = 0\n",
    "for i, value, in enumerate(sorted_values):\n",
    "    summ += value\n",
    "    if summ > sum_sorted_values*0.8:\n",
    "        print(i, value)\n",
    "        break"
   ]
  },
  {
   "cell_type": "code",
   "execution_count": 41,
   "metadata": {},
   "outputs": [
    {
     "name": "stdout",
     "output_type": "stream",
     "text": [
      "15745 20\n"
     ]
    }
   ],
   "source": [
    "summ = 0\n",
    "for i, value, in enumerate(sorted_values):\n",
    "    summ += value\n",
    "    if value < 21:\n",
    "        print(i, value)\n",
    "        break"
   ]
  },
  {
   "cell_type": "code",
   "execution_count": 43,
   "metadata": {},
   "outputs": [
    {
     "data": {
      "text/plain": [
       "920634"
      ]
     },
     "execution_count": 43,
     "metadata": {},
     "output_type": "execute_result"
    }
   ],
   "source": [
    "sum(sorted_values[:15745])"
   ]
  },
  {
   "cell_type": "code",
   "execution_count": 44,
   "metadata": {},
   "outputs": [
    {
     "data": {
      "text/plain": [
       "<BarContainer object of 20521 artists>"
      ]
     },
     "execution_count": 44,
     "metadata": {},
     "output_type": "execute_result"
    },
    {
     "data": {
      "image/png": "[encoded data removed]",
      "text/plain": [
       "<Figure size 640x480 with 1 Axes>"
      ]
     },
     "metadata": {},
     "output_type": "display_data"
    }
   ],
   "source": [
    "import matplotlib.pyplot as plt\n",
    "plt.bar(np.arange(15745), sorted_values[:15745], color='blue')\n",
    "plt.bar(np.arange(15745, len(sorted_values)), sorted_values[15745:], color='red')"
   ]
  },
  {
   "cell_type": "code",
   "execution_count": 45,
   "metadata": {},
   "outputs": [
    {
     "data": {
      "text/plain": [
       "<BarContainer object of 28955 artists>"
      ]
     },
     "execution_count": 45,
     "metadata": {},
     "output_type": "execute_result"
    },
    {
     "data": {
      "image/png": "[encoded data removed]",
      "text/plain": [
       "<Figure size 640x480 with 1 Axes>"
      ]
     },
     "metadata": {},
     "output_type": "display_data"
    }
   ],
   "source": [
    "import matplotlib.pyplot as plt\n",
    "plt.bar(np.arange(7311), sorted_values[:7311], color='blue')\n",
    "plt.bar(np.arange(7311, len(sorted_values)), sorted_values[7311:], color='red')"
   ]
  },
  {
   "cell_type": "code",
   "execution_count": null,
   "metadata": {},
   "outputs": [],
   "source": []
  }
 ],
 "metadata": {
  "kernelspec": {
   "display_name": "py39",
   "language": "python",
   "name": "py39"
  },
  "language_info": {
   "codemirror_mode": {
    "name": "ipython",
    "version": 3
   },
   "file_extension": ".py",
   "mimetype": "text/x-python",
   "name": "python",
   "nbconvert_exporter": "python",
   "pygments_lexer": "ipython3",
   "version": "3.9.7"
  }
 },
 "nbformat": 4,
 "nbformat_minor": 4
}
